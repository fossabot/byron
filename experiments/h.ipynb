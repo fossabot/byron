{
 "cells": [
  {
   "cell_type": "markdown",
   "metadata": {},
   "source": [
    "This notebook is part of [**Byron v0.8**](https://pypi.org/project/byron/)  \n",
    "Copyright 2023-24 Giovanni Squillero and Alberto Tonda  \n",
    "SPDX-License-Identifier: [Apache-2.0](https://opensource.org/license/apache-2-0/)  "
   ]
  },
  {
   "cell_type": "code",
   "execution_count": 1,
   "metadata": {
    "ExecuteTime": {
     "end_time": "2023-08-20T10:44:31.090918Z",
     "start_time": "2023-08-20T10:44:30.975914Z"
    }
   },
   "source": [
    "import byron"
   ],
   "outputs": []
  },
  {
   "cell_type": "code",
   "execution_count": 2,
   "source": [
    "import seaborn as sns"
   ],
   "metadata": {
    "collapsed": false,
    "ExecuteTime": {
     "end_time": "2023-08-20T10:44:31.091255Z",
     "start_time": "2023-08-20T10:44:31.090147Z"
    }
   },
   "outputs": []
  },
  {
   "cell_type": "code",
   "execution_count": 3,
   "source": [
    "from collections import Counter"
   ],
   "metadata": {
    "collapsed": false,
    "ExecuteTime": {
     "end_time": "2023-08-20T10:44:32.412154Z",
     "start_time": "2023-08-20T10:44:32.407161Z"
    }
   },
   "outputs": []
  },
  {
   "cell_type": "code",
   "execution_count": 12,
   "source": [
    "samples = [byron.rrandom.choice(list(\"ABCDEFG\"), loc=2, sigma=0.9) for _ in range(100_000)]\n",
    "cnt = Counter(samples)\n",
    "sorted(cnt.items())"
   ],
   "metadata": {
    "collapsed": false,
    "ExecuteTime": {
     "end_time": "2023-08-20T10:45:57.779732Z",
     "start_time": "2023-08-20T10:45:51.226811Z"
    }
   },
   "outputs": []
  },
  {
   "cell_type": "code",
   "execution_count": 6,
   "source": [
    "byron.rrandom.random_int(0, 7, loc=2, sigma=0)"
   ],
   "metadata": {
    "collapsed": false,
    "ExecuteTime": {
     "end_time": "2023-08-20T10:40:15.279009Z",
     "start_time": "2023-08-20T10:40:15.273117Z"
    }
   },
   "outputs": []
  },
  {
   "cell_type": "code",
   "execution_count": 10,
   "source": [
    "byron.rrandom.random_int(0, 10, loc=2, sigma=0)"
   ],
   "metadata": {
    "collapsed": false,
    "ExecuteTime": {
     "end_time": "2023-08-20T10:36:40.885169Z",
     "start_time": "2023-08-20T10:36:40.880122Z"
    }
   },
   "outputs": []
  },
  {
   "cell_type": "code",
   "execution_count": 8,
   "source": [
    "samples = [byron.rrandom.random_float(0, 1) for _ in range(1_000_000)]\n",
    "sns.displot(samples, bins=100)"
   ],
   "metadata": {
    "collapsed": false,
    "ExecuteTime": {
     "end_time": "2023-08-20T10:29:18.183548Z",
     "start_time": "2023-08-20T10:29:15.756735Z"
    }
   },
   "outputs": []
  },
  {
   "cell_type": "code",
   "execution_count": null,
   "source": [
    "%time samples = [byron.rrandom.random_float(5, 10) for _ in range(1_000_000)]\n",
    "sns.displot(samples, bins=100)\n",
    "%time samples = [byron.rrandom.random_int(5, 10) for _ in range(1_000_000)]\n",
    "sns.displot(samples, bins=100)"
   ],
   "metadata": {
    "collapsed": false,
    "ExecuteTime": {
     "start_time": "2023-08-20T10:24:49.722167Z"
    }
   },
   "outputs": []
  },
  {
   "cell_type": "code",
   "execution_count": null,
   "source": [
    "%time samples = [byron.rrandom.random_float(5, 10, loc=6, scale=1) for _ in range(1_000_000)]\n",
    "sns.displot(samples, bins=100)"
   ],
   "metadata": {
    "collapsed": false,
    "ExecuteTime": {
     "end_time": "2023-08-20T10:24:49.723850Z",
     "start_time": "2023-08-20T10:24:49.723453Z"
    }
   },
   "outputs": []
  },
  {
   "cell_type": "code",
   "execution_count": null,
   "source": [
    "%time samples =[byron.rrandom.random_int(5, 10, loc=6, scale=1) for _ in range(1_000_000)]\n",
    "sns.displot(samples, binwidth=0.01)"
   ],
   "metadata": {
    "collapsed": false,
    "ExecuteTime": {
     "end_time": "2023-08-20T10:24:49.725839Z",
     "start_time": "2023-08-20T10:24:49.724532Z"
    }
   },
   "outputs": []
  },
  {
   "cell_type": "code",
   "execution_count": null,
   "source": [
    "from collections import Counter\n",
    "\n",
    "samples = [byron.rrandom.random_int(5, 10) for _ in range(1_000_000)]\n",
    "cnt = Counter(samples)\n",
    "cnt"
   ],
   "metadata": {
    "collapsed": false,
    "ExecuteTime": {
     "start_time": "2023-08-20T10:24:49.725715Z"
    }
   },
   "outputs": []
  },
  {
   "cell_type": "code",
   "execution_count": null,
   "source": [
    "byron.rrandom.choice(list(\"ABCDEFG\"), loc=1, sigma=0)"
   ],
   "metadata": {
    "collapsed": false,
    "ExecuteTime": {
     "start_time": "2023-08-20T10:24:49.726437Z"
    }
   },
   "outputs": []
  }
 ],
 "metadata": {
  "kernelspec": {
   "display_name": "Python 3 (ipykernel)",
   "language": "python",
   "name": "python3"
  },
  "language_info": {
   "codemirror_mode": {
    "name": "ipython",
    "version": 3
   },
   "file_extension": ".py",
   "mimetype": "text/x-python",
   "name": "python",
   "nbconvert_exporter": "python",
   "pygments_lexer": "ipython3",
   "version": "3.11.4"
  }
 },
 "nbformat": 4,
 "nbformat_minor": 4
}
